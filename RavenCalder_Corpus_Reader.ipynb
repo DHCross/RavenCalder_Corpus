{
 "cells": [
  {
   "cell_type": "markdown",
   "id": "09e3934a",
   "metadata": {},
   "source": [
    "## Annotation Section\n",
    "\n",
    "Use this cell to record your insights, questions, or highlights as you read through the corpus. You can add more markdown cells for additional notes.\n"
   ]
  },
  {
   "cell_type": "code",
   "execution_count": 5,
   "id": "45222323",
   "metadata": {},
   "outputs": [
    {
     "name": "stdout",
     "output_type": "stream",
     "text": [
      "\\VERSION: 2025-09-22 v24.3 (Unified Report Template v1.5)\n",
      "\n",
      "# Raven Calder Corpus - Cleaned and Unified\n",
      "\n",
      "This document is the single-file, canonical version of the Raven Calder Corpus, cleaned and consolidated as of 2025-09-22.\n",
      "\n",
      "---\n",
      "\n",
      "## Table of Contents\n",
      "\n",
      "- [Executive summary](#executive-summary)\n",
      "- [Raven Calder Persona (Frontstage Guidelines)](#raven-calder-persona-frontstage-guidelines)\n",
      "- [Woven Map Probabilistic Field Lexicon (Integrated v1.1)](#woven-map-probabilistic-field-lexicon-integrated-v11)\n",
      "- [Scenario-Mapping Adjectives](#scenario-mapping-adjectives)\n",
      "- [Scenario Construction Protocol](#scenario-construction-protocol)\n",
      "- [Balance Meter Spec (Seismograph, Balance Channel, SFD)](#balance-meter-spec-seismograph-balance-channel-sfd)\n",
      "- [Poetic Codex Protocol & Symbol-to-Poem Template](#poetic-codex-protocol--symbol-to-poem-template)\n",
      "- [Report Templates (Mirror & Balance)](#report-templates-mirror--balance)\n",
      "- [Dream Protocol](#dream-protocol)\n",
      "- [Linter Rules for Automated Enforcement](#linter-rules-for-automated-enforcement)\n",
      "- [Implementation Checklists & YAML templates](#implementation-checklists--yaml-templates)\n",
      "- [CHANGELOG](#changelog)\n",
      "\n",
      "---\n",
      "\n",
      "**Purpose:** a cleaned, single-file merge of the Woven Map corpus with a clear Table of Contents, enforcement checklist, and a tracked change log so the Raven Calder system rules (FIELD → MAP → VOICE, Frontstage vs Backstage, Poetic Codex constraints, Balance Meter v1.2+) are visible and auditable.\n",
      "\n",
      "---\n",
      "\n",
      "## Executive summary\n",
      "\n",
      "* This document consolidates the core files from the corpus into one canonical markdown. It preserves the Math Brain outputs and Poetic Brain translation rules while enforcing the Frontstage/Backstage separation and the required YAML fields.\n",
      "\n",
      "## What I included\n",
      "\n",
      "* Probabilistic Field Lexicon (Integrated v1.1)\n",
      "* Balance Meter / Seismograph & SFD (v1.2 architecture)\n",
      "* Poetic Codex & Symbol-to-Poem protocol\n",
      "* Raven Calder Persona & Implementation guide\n",
      "* Hook Stack / Polarity Cards / Symbolic Navigation\n"
     ]
    }
   ],
   "source": [
    "# Document Loader: Load and display the corpus file\n",
    "corpus_path = 'RavenCalder_Corpus_Complete_9.25.25.md'\n",
    "\n",
    "with open(corpus_path, 'r', encoding='utf-8') as f:\n",
    "    corpus_text = f.read()\n",
    "\n",
    "# Display first 40 lines for preview\n",
    "for line in corpus_text.splitlines()[:40]:\n",
    "    print(line)\n"
   ]
  },
  {
   "cell_type": "markdown",
   "id": "3b4de523",
   "metadata": {},
   "source": [
    "## Table of Contents\n",
    "\n",
    "- Corpus Overview\n",
    "- Document Loader\n",
    "- Search & Extraction\n",
    "- Annotation Section\n",
    "- User Notes\n"
   ]
  },
  {
   "cell_type": "markdown",
   "id": "b7de9b9a",
   "metadata": {},
   "source": [
    "# Raven Calder Corpus Interactive Reader & Annotation Notebook\n",
    "\n",
    "This notebook lets you interactively read, search, and annotate the Raven Calder Corpus. You can view the corpus, add notes, and run code to analyze or extract information from the document.\n",
    "\n",
    "**How to use:**\n",
    "- Run the code cells to load and search the corpus file.\n",
    "- Add your own markdown or code cells for notes, highlights, or custom analysis.\n",
    "- Use the annotation section to record insights or questions.\n",
    "- Save the notebook to preserve your annotations and results.\n"
   ]
  },
  {
   "cell_type": "code",
   "execution_count": 3,
   "id": "cc9ddbbc",
   "metadata": {},
   "outputs": [],
   "source": [
    "# Search corpus for keywords or phrases\n",
    "import re\n",
    "\n",
    "def search_corpus(filepath, query, case_sensitive=False, max_results=10):\n",
    "    with open(filepath, 'r', encoding='utf-8') as f:\n",
    "        text = f.read()\n",
    "    flags = 0 if case_sensitive else re.IGNORECASE\n",
    "    matches = [(m.start(), m.group()) for m in re.finditer(re.escape(query), text, flags)]\n",
    "    results = []\n",
    "    for i, (pos, match) in enumerate(matches[:max_results]):\n",
    "        context = text[max(0, pos-100):pos+100]\n",
    "        results.append({'match': match, 'position': pos, 'context': context})\n",
    "    return results\n",
    "\n",
    "# Example usage:\n",
    "# results = search_corpus('RavenCalder_Corpus_Complete_9.25.25.md', 'symbolic weather')\n",
    "# for r in results:\n",
    "#     print(r['context'])\n"
   ]
  },
  {
   "cell_type": "code",
   "execution_count": 4,
   "id": "f508cfa9",
   "metadata": {},
   "outputs": [
    {
     "name": "stdout",
     "output_type": "stream",
     "text": [
      "Result 1 (position 2920):\n",
      "ance, then Paradox). The protocol includes Echo Loop/REF detection, SYN tag auto-decoding, optional symbolic weather overlays, and other advanced diagnostic tools. It integrates a comprehensive therap\n",
      "----------------------------------------\n",
      "Result 2 (position 4201):\n",
      "r is strictly reserved for symbolic activations (transits) and never applied to internal states.\n",
      "\n",
      "**Symbolic Weather/Climate:** Refers exclusively to transient activations, derived from the Woven Map \n",
      "----------------------------------------\n",
      "Result 3 (position 5121):\n",
      "ty to determine an individual's current geographic location compromises the integrity of localized \"symbolic weather\" claims due to the importance of Houses, which are location-specific. The report ca\n",
      "----------------------------------------\n",
      "Result 4 (position 5341):\n",
      "ral planet-to-planet aspects without accurate location data.\n",
      "\n",
      "*A mirror-language set for describing symbolic weather in probabilistic terms. All entries are conditional, testable, and aligned with Bal\n",
      "----------------------------------------\n",
      "Result 5 (position 6494):\n",
      "nsion.\n",
      "\n",
      "### **Field Logging**\n",
      "\n",
      "Practice of noting lived tension, openness, or restriction alongside symbolic weather. Ensures correlation without enforcing causality.\n",
      "\n",
      "### **Manifestation (Rejected)**\n",
      "----------------------------------------\n",
      "Result 6 (position 7078):\n",
      "ed as valid null data for refinement, not as system failure.\n",
      "\n",
      "### **Ping**\n",
      "\n",
      "A felt recognition that symbolic weather matches lived experience. Must be **lived in real time**, not retro-fitted. Serves \n",
      "----------------------------------------\n"
     ]
    }
   ],
   "source": [
    "# Interactive search example\n",
    "corpus_path = 'RavenCalder_Corpus_Complete_9.25.25.md'  # Update if needed\n",
    "query = 'symbolic weather'  # Change to your search term\n",
    "results = search_corpus(corpus_path, query)\n",
    "for i, r in enumerate(results):\n",
    "    print(f\"Result {i+1} (position {r['position']}):\\n{r['context']}\\n{'-'*40}\")"
   ]
  }
 ],
 "metadata": {
  "kernelspec": {
   "display_name": ".venv",
   "language": "python",
   "name": "python3"
  },
  "language_info": {
   "codemirror_mode": {
    "name": "ipython",
    "version": 3
   },
   "file_extension": ".py",
   "mimetype": "text/x-python",
   "name": "python",
   "nbconvert_exporter": "python",
   "pygments_lexer": "ipython3",
   "version": "3.13.5"
  }
 },
 "nbformat": 4,
 "nbformat_minor": 5
}
