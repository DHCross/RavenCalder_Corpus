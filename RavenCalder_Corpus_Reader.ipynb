{
 "cells": [
  {
   "cell_type": "markdown",
   "id": "09e3934a",
   "metadata": {},
   "source": [
    "## Annotation Section\n",
    "\n",
    "Use this cell to record your insights, questions, or highlights as you read through the corpus. You can add more markdown cells for additional notes.\n"
   ]
  },
  {
   "cell_type": "code",
   "execution_count": null,
   "id": "45222323",
   "metadata": {},
   "outputs": [],
   "source": [
    "# Document Loader: Load and display the corpus file\n",
    "corpus_path = 'RavenCalder_Corpus_Complete_9.25.25.md'\n",
    "\n",
    "with open(corpus_path, 'r', encoding='utf-8') as f:\n",
    "    corpus_text = f.read()\n",
    "\n",
    "# Display first 40 lines for preview\n",
    "for line in corpus_text.splitlines()[:40]:\n",
    "    print(line)\n"
   ]
  },
  {
   "cell_type": "markdown",
   "id": "3b4de523",
   "metadata": {},
   "source": [
    "## Table of Contents\n",
    "\n",
    "- Corpus Overview\n",
    "- Document Loader\n",
    "- Search & Extraction\n",
    "- Annotation Section\n",
    "- User Notes\n"
   ]
  },
  {
   "cell_type": "markdown",
   "id": "b7de9b9a",
   "metadata": {},
   "source": [
    "# Raven Calder Corpus Interactive Reader & Annotation Notebook\n",
    "\n",
    "This notebook lets you interactively read, search, and annotate the Raven Calder Corpus. You can view the corpus, add notes, and run code to analyze or extract information from the document.\n",
    "\n",
    "**How to use:**\n",
    "- Run the code cells to load and search the corpus file.\n",
    "- Add your own markdown or code cells for notes, highlights, or custom analysis.\n",
    "- Use the annotation section to record insights or questions.\n",
    "- Save the notebook to preserve your annotations and results.\n"
   ]
  },
  {
   "cell_type": "code",
   "execution_count": null,
   "id": "cc9ddbbc",
   "metadata": {},
   "outputs": [],
   "source": [
    "# Search corpus for keywords or phrases\n",
    "import re\n",
    "\n",
    "def search_corpus(filepath, query, case_sensitive=False, max_results=10):\n",
    "    with open(filepath, 'r', encoding='utf-8') as f:\n",
    "        text = f.read()\n",
    "    flags = 0 if case_sensitive else re.IGNORECASE\n",
    "    matches = [(m.start(), m.group()) for m in re.finditer(re.escape(query), text, flags)]\n",
    "    results = []\n",
    "    for i, (pos, match) in enumerate(matches[:max_results]):\n",
    "        context = text[max(0, pos-100):pos+100]\n",
    "        results.append({'match': match, 'position': pos, 'context': context})\n",
    "    return results\n",
    "\n",
    "# Example usage:\n",
    "# results = search_corpus('RavenCalder_Corpus_Complete_9.25.25.md', 'symbolic weather')\n",
    "# for r in results:\n",
    "#     print(r['context'])\n"
   ]
  },
  {
   "cell_type": "code",
   "execution_count": null,
   "id": "f508cfa9",
   "metadata": {},
   "outputs": [],
   "source": [
    "# Interactive search example\n",
    "corpus_path = 'RavenCalder_Corpus_Complete_9.25.25.md'  # Update if needed\n",
    "query = 'symbolic weather'  # Change to your search term\n",
    "results = search_corpus(corpus_path, query)\n",
    "for i, r in enumerate(results):\n",
    "    print(f\"Result {i+1} (position {r['position']}):\\n{r['context']}\\n{'-'*40}\")"
   ]
  }
 ],
 "metadata": {
  "language_info": {
   "name": "python"
  }
 },
 "nbformat": 4,
 "nbformat_minor": 5
}
