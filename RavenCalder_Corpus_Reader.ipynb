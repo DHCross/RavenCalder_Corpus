{
 "cells": [
  {
   "cell_type": "markdown",
   "id": "09e3934a",
   "metadata": {},
   "source": [
    "## Annotation Section\n",
    "\n",
    "Use this cell to record your insights, questions, or highlights as you read through the corpus. You can add more markdown cells for additional notes.\n"
   ]
  },
  {
   "cell_type": "code",
   "execution_count": null,
   "id": "45222323",
   "metadata": {},
   "outputs": [],
   "source": [
    "# Document Loader: Load and display the corpus file\n",
    "corpus_path = 'RavenCalder_Corpus_Complete_9.25.25.md'\n",
    "\n",
    "with open(corpus_path, 'r', encoding='utf-8') as f:\n",
    "    corpus_text = f.read()\n",
    "\n",
    "# Display first 40 lines for preview\n",
    "for line in corpus_text.splitlines()[:40]:\n",
    "    print(line)\n"
   ]
  },
  {
   "cell_type": "markdown",
   "id": "3b4de523",
   "metadata": {},
   "source": [
    "## Table of Contents\n",
    "\n",
    "- Corpus Overview\n",
    "- Document Loader\n",
    "- Search & Extraction\n",
    "- Annotation Section\n",
    "- User Notes\n"
   ]
  },
  {
   "cell_type": "markdown",
   "id": "b7de9b9a",
   "metadata": {},
   "source": [
    "# Raven Calder Corpus Interactive Reader & Annotation Notebook\n",
    "\n",
    "This notebook lets you interactively read, search, and annotate the Raven Calder Corpus. You can view the corpus, add notes, and run code to analyze or extract information from the document.\n",
    "\n",
    "**How to use:**\n",
    "- Run the code cells to load and search the corpus file.\n",
    "- Add your own markdown or code cells for notes, highlights, or custom analysis.\n",
    "- Use the annotation section to record insights or questions.\n",
    "- Save the notebook to preserve your annotations and results.\n"
   ]
  }
 ],
 "metadata": {
  "language_info": {
   "name": "python"
  }
 },
 "nbformat": 4,
 "nbformat_minor": 5
}
